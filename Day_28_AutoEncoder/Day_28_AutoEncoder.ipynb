{
  "nbformat": 4,
  "nbformat_minor": 0,
  "metadata": {
    "colab": {
      "provenance": []
    },
    "kernelspec": {
      "name": "python3",
      "display_name": "Python 3"
    },
    "language_info": {
      "name": "python"
    }
  },
  "cells": [
    {
      "cell_type": "markdown",
      "source": [
        "# **Autoencoders in Machine Learning**  \n",
        "\n",
        "## Introduction  \n",
        "At the heart of deep learning lies the neural network, an intricate system of nodes mimicking the human brain’s architecture. Neural networks excel at discerning complex patterns in vast datasets, enabling predictions, classification, and generating insights.  \n",
        "\n",
        "Autoencoders, a fascinating subset of neural networks, offer a unique approach to **unsupervised learning**. They can learn effective representations of data and are widely used in fields like **image processing** and **anomaly detection**.  \n",
        "\n",
        "---\n",
        "\n",
        "## What Are Autoencoders?  \n",
        "Autoencoders are a class of **unsupervised learning** algorithms designed to learn efficient representations of input data without labels.  \n",
        "\n",
        "### Key Components:  \n",
        "1. **Encoder**:  \n",
        "   - Transforms input data into a reduced-dimensional representation (latent space/encoding).  \n",
        "2. **Decoder**:  \n",
        "   - Rebuilds the original input from the reduced-dimensional representation.\n",
        "\n",
        "### Goal:  \n",
        "To compress input data and then reconstruct it as accurately as possible. The encoder-decoder process helps the network capture meaningful patterns and essential features of the data.  \n",
        "\n",
        "---\n",
        "\n",
        "## Architecture of Autoencoders  \n",
        "\n",
        "### General Structure:  \n",
        "1. **Encoder**:  \n",
        "   - The input layer takes raw data.  \n",
        "   - Hidden layers reduce dimensionality to capture key patterns.  \n",
        "   - Bottleneck layer (latent space): Final hidden layer where data is significantly compressed.  \n",
        "\n",
        "2. **Decoder**:  \n",
        "   - Expands the latent representation back to the original dimensionality.  \n",
        "   - Reconstructs the input through progressively increasing layers.  \n",
        "   - The output layer produces the reconstructed data.  \n",
        "\n",
        "---\n",
        "\n",
        "### Loss Function:  \n",
        "- **Reconstruction Loss**: Measures the difference between the input and the reconstructed output.  \n",
        "  - Common choices:  \n",
        "    - **Mean Squared Error (MSE)** for continuous data.  \n",
        "    - **Binary Cross-Entropy** for binary data.  \n",
        "- Autoencoders learn by minimizing this reconstruction loss.  \n",
        "\n",
        "### Techniques to Constrain the Network:  \n",
        "1. **Small Hidden Layers**: Forces the network to pick representative features.  \n",
        "2. **Regularization**: Adds loss terms encouraging meaningful training.  \n",
        "3. **Denoising**: Trains the network to remove noise from data.  \n",
        "4. **Activation Functions**: Activates only a subset of nodes, reducing redundancy.  \n",
        "\n",
        "---\n",
        "\n",
        "## Types of Autoencoders  \n",
        "\n",
        "### 1. Denoising Autoencoder  \n",
        "**Purpose**: Works on partially corrupted input to recover the undistorted version.  \n",
        "- **Advantages**:  \n",
        "  - Extracts meaningful features while reducing noise.  \n",
        "  - Can be used for data augmentation.  \n",
        "- **Disadvantages**:  \n",
        "  - Challenging to select the right type/level of noise.  \n",
        "  - Risk of losing critical information.  \n",
        "\n",
        "---\n",
        "\n",
        "### 2. Sparse Autoencoder  \n",
        "**Purpose**: Contains more hidden units than input but enforces sparsity by activating only a few units.  \n",
        "- **Advantages**:  \n",
        "  - Filters noise and irrelevant features.  \n",
        "  - Learns meaningful patterns.  \n",
        "- **Disadvantages**:  \n",
        "  - Hyperparameter tuning is crucial.  \n",
        "  - Increased computational complexity.  \n",
        "\n",
        "---\n",
        "\n",
        "### 3. Variational Autoencoder (VAE)  \n",
        "**Purpose**: Makes assumptions about the distribution of latent variables.  \n",
        "- **Advantages**:  \n",
        "  - Generates new data points resembling training data.  \n",
        "  - Useful for anomaly detection and data exploration.  \n",
        "- **Disadvantages**:  \n",
        "  - Approximation errors can affect sample quality.  \n",
        "  - Limited diversity in generated samples.  \n",
        "\n",
        "---\n",
        "\n",
        "### 4. Convolutional Autoencoder  \n",
        "**Purpose**: Uses convolutional layers for image data.  \n",
        "- **Advantages**:  \n",
        "  - Compresses high-dimensional image data.  \n",
        "  - Can reconstruct missing parts of images.  \n",
        "- **Disadvantages**:  \n",
        "  - Prone to overfitting.  \n",
        "  - Compression can lead to data loss and lower-quality reconstructions.  \n",
        "\n",
        "---\n",
        "\n",
        "## Implementation of Autoencoders  \n",
        "\n",
        "### Steps:  \n",
        "1. **Import Libraries**: Use Python libraries like `matplotlib`, `numpy`, `pandas`, `sklearn`, and `keras`.  \n",
        "2. **Define Encoder and Decoder**:  \n",
        "   - Encoder reduces the input to a lower-dimensional latent space.  \n",
        "   - Decoder reconstructs the input using the latent space.  \n",
        "3. **Train the Autoencoder**: Minimize reconstruction loss using a dataset.  \n",
        "4. **Evaluate Performance**: Compare the input and reconstructed output.  \n",
        "\n",
        "---\n",
        "\n",
        "```"
      ],
      "metadata": {
        "id": "fNRSydBsvlmn"
      }
    },
    {
      "cell_type": "code",
      "source": [
        "import matplotlib.pyplot as plt\n",
        "import numpy as np\n",
        "import pandas as pd\n",
        "import tensorflow as tf\n",
        "\n",
        "from sklearn.metrics import accuracy_score, precision_score, recall_score\n",
        "from sklearn.model_selection import train_test_split\n",
        "from keras import layers, losses\n",
        "from keras.datasets import mnist\n",
        "from keras.models import Model\n"
      ],
      "metadata": {
        "id": "hPRpi0lOwBCa"
      },
      "execution_count": 3,
      "outputs": []
    },
    {
      "cell_type": "code",
      "source": [
        "# Loading the MNIST dataset and extracting training and testing data\n",
        "(x_train, _), (x_test, _) = mnist.load_data()\n",
        "\n",
        "# Normalizing pixel values to the range [0, 1]\n",
        "x_train = x_train.astype('float32') / 255.\n",
        "x_test = x_test.astype('float32') / 255.\n",
        "\n",
        "# Displaying the shapes of the training and testing datasets\n",
        "print(\"Shape of the training data:\", x_train.shape)\n",
        "print(\"Shape of the testing data:\", x_test.shape)\n"
      ],
      "metadata": {
        "colab": {
          "base_uri": "https://localhost:8080/"
        },
        "id": "LeMM3i9pvXCv",
        "outputId": "4abbc43b-961d-4786-aab4-001a036e7848"
      },
      "execution_count": 2,
      "outputs": [
        {
          "output_type": "stream",
          "name": "stdout",
          "text": [
            "Downloading data from https://storage.googleapis.com/tensorflow/tf-keras-datasets/mnist.npz\n",
            "\u001b[1m11490434/11490434\u001b[0m \u001b[32m━━━━━━━━━━━━━━━━━━━━\u001b[0m\u001b[37m\u001b[0m \u001b[1m0s\u001b[0m 0us/step\n",
            "Shape of the training data: (60000, 28, 28)\n",
            "Shape of the testing data: (10000, 28, 28)\n"
          ]
        }
      ]
    },
    {
      "cell_type": "code",
      "source": [
        "# Definition of the Autoencoder model as a subclass of the TensorFlow Model class\n",
        "\n",
        "class SimpleAutoencoder(Model):\n",
        "\tdef __init__(self,latent_dimensions , data_shape):\n",
        "\t\tsuper(SimpleAutoencoder, self).__init__()\n",
        "\t\tself.latent_dimensions = latent_dimensions\n",
        "\t\tself.data_shape = data_shape\n",
        "\n",
        "\t\t# Encoder architecture using a Sequential model\n",
        "\t\tself.encoder = tf.keras.Sequential([\n",
        "\t\t\tlayers.Flatten(),\n",
        "\t\t\tlayers.Dense(latent_dimensions, activation='relu'),\n",
        "\t\t])\n",
        "\n",
        "\t\t# Decoder architecture using another Sequential model\n",
        "\t\t# Calculate the product of data_shape dimensions using np.prod to get the total number of pixels\n",
        "\t\tnum_pixels = np.prod(data_shape)\n",
        "\t\tself.decoder = tf.keras.Sequential([\n",
        "\t\t\t# Use num_pixels as the number of neurons in the Dense layer\n",
        "\t\t\tlayers.Dense(num_pixels, activation='sigmoid'),\n",
        "\t\t\tlayers.Reshape(data_shape)\n",
        "\t\t])\n",
        "\n",
        "\t# Forward pass method defining the encoding and decoding steps\n",
        "\tdef call(self, input_data):\n",
        "\t\tencoded_data = self.encoder(input_data)\n",
        "\t\tdecoded_data = self.decoder(encoded_data)\n",
        "\t\treturn decoded_data\n",
        "\n",
        "# Extracting shape information from the testing dataset\n",
        "input_data_shape = x_test.shape[1:]\n",
        "\n",
        "# Specifying the dimensionality of the latent space\n",
        "latent_dimensions = 64\n",
        "\n",
        "# Creating an instance of the SimpleAutoencoder model\n",
        "simple_autoencoder = SimpleAutoencoder(latent_dimensions, input_data_shape)\n"
      ],
      "metadata": {
        "id": "3YH_0pJ5vanD"
      },
      "execution_count": 7,
      "outputs": []
    },
    {
      "cell_type": "markdown",
      "source": [
        "### Detailed Explanation of the Autoencoder Model Code\n",
        "\n",
        "1. **Defining the Autoencoder Class:**  \n",
        "   ```python\n",
        "   class SimpleAutoencoder(Model):\n",
        "   ```  \n",
        "   - We define a new class `SimpleAutoencoder` that inherits from TensorFlow's `Model` class. This allows us to encapsulate the autoencoder's layers and forward pass in a single, reusable model.\n",
        "\n",
        "2. **Initialization Method (`__init__`):**  \n",
        "   ```python\n",
        "   def __init__(self, latent_dimensions, data_shape):\n",
        "       super(SimpleAutoencoder, self).__init__()\n",
        "       self.latent_dimensions = latent_dimensions\n",
        "       self.data_shape = data_shape\n",
        "   ```  \n",
        "   - The constructor (`__init__`) accepts two parameters:\n",
        "     - `latent_dimensions`: The size of the latent space (i.e., the number of neurons in the bottleneck layer).\n",
        "     - `data_shape`: The shape of the input data (for example, for MNIST images this might be `(28, 28)`).\n",
        "   - `super(SimpleAutoencoder, self).__init__()` initializes the base class, ensuring that the model is properly set up.\n",
        "\n",
        "3. **Building the Encoder:**  \n",
        "   ```python\n",
        "   self.encoder = tf.keras.Sequential([\n",
        "       layers.Flatten(),\n",
        "       layers.Dense(latent_dimensions, activation='relu'),\n",
        "   ])\n",
        "   ```  \n",
        "   - The encoder is defined as a `Sequential` model containing two layers:\n",
        "     - **Flatten Layer:** Converts the multi-dimensional input (e.g., 28×28 pixels) into a one-dimensional vector.\n",
        "     - **Dense Layer:** Maps the flattened vector to a lower-dimensional latent space with `latent_dimensions` neurons. The `'relu'` activation introduces non-linearity and helps the model learn complex patterns.\n",
        "\n",
        "4. **Building the Decoder:**  \n",
        "   ```python\n",
        "   num_pixels = np.prod(data_shape)\n",
        "   self.decoder = tf.keras.Sequential([\n",
        "       layers.Dense(num_pixels, activation='sigmoid'),\n",
        "       layers.Reshape(data_shape)\n",
        "   ])\n",
        "   ```  \n",
        "   - **Calculating `num_pixels`:**  \n",
        "     - `np.prod(data_shape)` computes the total number of pixels in the input (e.g., for a 28×28 image, `28 * 28 = 784`).\n",
        "   - The decoder is also a `Sequential` model and consists of:\n",
        "     - **Dense Layer:** Transforms the latent representation back to a vector of length equal to the total number of pixels. The `'sigmoid'` activation is used to produce outputs in the range [0, 1], matching the normalized pixel values.\n",
        "     - **Reshape Layer:** Reshapes the output vector back into the original data shape (e.g., (28, 28)), reconstructing the image.\n",
        "\n",
        "5. **Defining the Forward Pass (`call` Method):**  \n",
        "   ```python\n",
        "   def call(self, input_data):\n",
        "       encoded_data = self.encoder(input_data)\n",
        "       decoded_data = self.decoder(encoded_data)\n",
        "       return decoded_data\n",
        "   ```  \n",
        "   - The `call` method defines the forward pass of the autoencoder:\n",
        "     - **Encoding:** The input data is passed through the encoder to obtain the latent representation (`encoded_data`).\n",
        "     - **Decoding:** This latent representation is then passed through the decoder to reconstruct the original input (`decoded_data`).\n",
        "     - **Output:** The reconstructed data is returned.\n",
        "\n",
        "6. **Creating an Instance of the Model:**  \n",
        "   ```python\n",
        "   input_data_shape = x_test.shape[1:]\n",
        "   latent_dimensions = 64\n",
        "   simple_autoencoder = SimpleAutoencoder(latent_dimensions, input_data_shape)\n",
        "   ```  \n",
        "   - **Extracting Input Shape:**  \n",
        "     - `x_test.shape[1:]` obtains the shape of a single test sample (e.g., `(28, 28)` if using MNIST). This is stored in `input_data_shape`.\n",
        "   - **Specifying Latent Dimensions:**  \n",
        "     - We set the latent space dimensionality to 64.\n",
        "   - **Instantiating the Autoencoder:**  \n",
        "     - Finally, an instance of `SimpleAutoencoder` is created with the specified latent dimensions and input shape.\n"
      ],
      "metadata": {
        "id": "dhd3-UVKxX0B"
      }
    },
    {
      "cell_type": "code",
      "source": [
        "simple_autoencoder.compile(optimizer='adam', loss=losses.MeanSquaredError())\n",
        "\n",
        "simple_autoencoder.fit(x_train, x_train,\n",
        "\t\t\t\tepochs=1,\n",
        "\t\t\t\tshuffle=True,\n",
        "\t\t\t\tvalidation_data=(x_test, x_test))\n"
      ],
      "metadata": {
        "colab": {
          "base_uri": "https://localhost:8080/"
        },
        "id": "r8eopSYPvapj",
        "outputId": "d839a4f0-4c84-438d-cbe2-7630fa5b76da"
      },
      "execution_count": 8,
      "outputs": [
        {
          "output_type": "stream",
          "name": "stdout",
          "text": [
            "\u001b[1m1875/1875\u001b[0m \u001b[32m━━━━━━━━━━━━━━━━━━━━\u001b[0m\u001b[37m\u001b[0m \u001b[1m9s\u001b[0m 4ms/step - loss: 0.0434 - val_loss: 0.0092\n"
          ]
        },
        {
          "output_type": "execute_result",
          "data": {
            "text/plain": [
              "<keras.src.callbacks.history.History at 0x7cc2ff4a41d0>"
            ]
          },
          "metadata": {},
          "execution_count": 8
        }
      ]
    },
    {
      "cell_type": "code",
      "source": [
        "encoded_imgs = simple_autoencoder.encoder(x_test).numpy()\n",
        "decoded_imgs = simple_autoencoder.decoder(encoded_imgs).numpy()\n",
        "\n",
        "n = 6\n",
        "plt.figure(figsize=(12, 6))\n",
        "for i in range(n):\n",
        "  ax = plt.subplot(2, n, i + 1)\n",
        "  plt.imshow(x_test[i])\n",
        "  plt.title(\"original\")\n",
        "  plt.gray()\n",
        "\n",
        "# display reconstruction\n",
        "  ax = plt.subplot(2, n, i + 1 + n)\n",
        "  plt.imshow(decoded_imgs[i])\n",
        "  plt.title(\"reconstructed\")\n",
        "  plt.gray()\n",
        "\n",
        "plt.show()\n"
      ],
      "metadata": {
        "colab": {
          "base_uri": "https://localhost:8080/",
          "height": 467
        },
        "id": "hAAfp4lqvasS",
        "outputId": "6c438806-c70c-440d-bfbf-ab00e7d1b8b8"
      },
      "execution_count": 12,
      "outputs": [
        {
          "output_type": "display_data",
          "data": {
            "text/plain": [
              "<Figure size 1200x600 with 12 Axes>"
            ],
            "image/png": "[encoded data removed]"
          },
          "metadata": {}
        }
      ]
    },
    {
      "cell_type": "markdown",
      "source": [
        "### Visualizing the Autoencoder's Reconstruction Performance\n",
        "\n",
        "In this section, we visualize the performance of our autoencoder by comparing the original images with their reconstructed counterparts. The code performs the following steps:\n",
        "\n",
        "1. **Encoding and Decoding the Test Data:**\n",
        "   - **Encoding:**  \n",
        "     ```python\n",
        "     encoded_imgs = simple_autoencoder.encoder(x_test).numpy()\n",
        "     ```\n",
        "     - We pass the test dataset `x_test` through the autoencoder's encoder to obtain the latent representations (`encoded_imgs`).\n",
        "     - The `.numpy()` method is used to convert the resulting TensorFlow tensor into a NumPy array for easier processing and visualization.\n",
        "\n",
        "   - **Decoding:**  \n",
        "     ```python\n",
        "     decoded_imgs = simple_autoencoder.decoder(encoded_imgs).numpy()\n",
        "     ```\n",
        "     - The latent representations are then passed through the decoder to reconstruct the images (`decoded_imgs`).\n",
        "     - Again, `.numpy()` converts the output tensor into a NumPy array.\n",
        "\n",
        "2. **Setting Up the Plot:**\n",
        "   - **Figure Configuration:**  \n",
        "     ```python\n",
        "     n = 6\n",
        "     plt.figure(figsize=(12, 6))\n",
        "     ```\n",
        "     - We define `n = 6` to visualize 6 images from the test set.\n",
        "     - The figure size is set to `(12, 6)` inches to provide sufficient space for displaying the images.\n",
        "\n",
        "3. **Plotting the Original and Reconstructed Images:**\n",
        "   - **Loop Through Images:**  \n",
        "     ```python\n",
        "     for i in range(n):\n",
        "       ax = plt.subplot(2, n, i + 1)\n",
        "       plt.imshow(x_test[i])\n",
        "       plt.title(\"original\")\n",
        "       plt.gray()\n",
        "     ```\n",
        "     - A loop iterates over the first 6 images.\n",
        "     - For each image:\n",
        "       - A subplot is created in a 2-row grid with `n` columns. The first row is reserved for the original images.\n",
        "       - `plt.imshow(x_test[i])` displays the original image.\n",
        "       - `plt.title(\"original\")` sets the title above the image.\n",
        "       - `plt.gray()` applies a grayscale colormap to match the original MNIST image style.\n",
        "\n",
        "   - **Plotting Reconstructed Images:**  \n",
        "     ```python\n",
        "       ax = plt.subplot(2, n, i + 1 + n)\n",
        "       plt.imshow(decoded_imgs[i])\n",
        "       plt.title(\"reconstructed\")\n",
        "       plt.gray()\n",
        "     ```\n",
        "     - In the same loop, a second subplot is created for each image in the second row.\n",
        "     - This subplot displays the corresponding reconstructed image from `decoded_imgs`.\n",
        "     - `plt.title(\"reconstructed\")` sets the title for the reconstructed image.\n",
        "     - Again, `plt.gray()` ensures the image is displayed in grayscale.\n",
        "\n",
        "4. **Displaying the Plot:**\n",
        "   - ```python\n",
        "     plt.show()\n",
        "     ```\n",
        "     - Finally, `plt.show()` renders the entire figure containing both the original and reconstructed images, allowing us to visually assess how well the autoencoder is reconstructing the input data.\n",
        "\n",
        "Overall, this code snippet allows us to compare the autoencoder’s output with the original images side by side, providing a clear visual indication of the reconstruction quality. Differences between the original and reconstructed images can highlight areas where the model may need improvement.\n"
      ],
      "metadata": {
        "id": "0jtTfXAGxhYr"
      }
    },
    {
      "cell_type": "markdown",
      "source": [
        "## Conclusion\n",
        "\n",
        "In this notebook, we explored the design, implementation, and evaluation of a simple autoencoder using TensorFlow. Here are the key takeaways:\n",
        "\n",
        "- **Model Architecture:**  \n",
        "  We defined an autoencoder by subclassing TensorFlow’s `Model` class, splitting the network into two main parts:  \n",
        "  - An **encoder** that compresses the input data (MNIST images) into a lower-dimensional latent space.\n",
        "  - A **decoder** that reconstructs the original input from the latent representation.  \n",
        "  This architecture illustrates the fundamental idea behind autoencoders: learning an efficient, compressed representation of the input data while being able to accurately reconstruct it.\n",
        "\n",
        "- **Data Preprocessing:**  \n",
        "  The MNIST dataset was loaded and preprocessed by normalizing the pixel values to the [0, 1] range. Normalization is essential to improve training convergence and overall model performance.\n",
        "\n",
        "- **Training and Evaluation:**  \n",
        "  We trained the autoencoder and then used it to encode and decode the test images. The visualization of original versus reconstructed images provided a clear, side-by-side comparison of the autoencoder’s performance. This allowed us to visually inspect the quality of the reconstructions and assess how well the model captured the underlying structure of the data.\n",
        "\n",
        "- **Insights and Future Work:**  \n",
        "  - The autoencoder successfully learned a compressed representation of the MNIST digits, demonstrating its ability to capture the key features of the input data.\n",
        "  - Minor discrepancies between the original and reconstructed images can point to potential areas for further tuning—such as adjusting the latent space size, refining the network architecture, or modifying the activation functions and loss function.\n",
        "  - This foundational work paves the way for more advanced applications, including anomaly detection, denoising, and even generating new data samples.\n",
        "\n"
      ],
      "metadata": {
        "id": "eq5L6itMxxef"
      }
    },
    {
      "cell_type": "code",
      "source": [],
      "metadata": {
        "id": "BpDOObvWvavo"
      },
      "execution_count": null,
      "outputs": []
    },
    {
      "cell_type": "code",
      "source": [],
      "metadata": {
        "id": "fjxdYbhbva5s"
      },
      "execution_count": null,
      "outputs": []
    },
    {
      "cell_type": "code",
      "source": [],
      "metadata": {
        "id": "by2_G8bqva8G"
      },
      "execution_count": null,
      "outputs": []
    },
    {
      "cell_type": "code",
      "source": [],
      "metadata": {
        "id": "K4SBZ0FCva_d"
      },
      "execution_count": null,
      "outputs": []
    }
  ]
}